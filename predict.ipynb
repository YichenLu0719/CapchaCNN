{
 "cells": [
  {
   "cell_type": "code",
   "execution_count": 12,
   "id": "744a8967",
   "metadata": {},
   "outputs": [],
   "source": [
    "import numpy as np\n",
    "import os\n",
    "import sys\n",
    "from tensorflow.keras import models\n",
    "from tensorflow.keras.preprocessing.image import img_to_array\n",
    "from tensorflow.keras.preprocessing.image import load_img\n",
    "from selenium import webdriver\n",
    "from selenium.webdriver.common.keys import Keys\n",
    "from webdriver_manager.chrome import ChromeDriverManager\n",
    "import time\n",
    "import requests\n",
    "import datetime\n",
    "from bs4 import BeautifulSoup\n",
    "from PIL import Image\n",
    "import pyodbc\n",
    "import cv2"
   ]
  },
  {
   "cell_type": "code",
   "execution_count": 13,
   "id": "81533715",
   "metadata": {},
   "outputs": [
    {
     "name": "stderr",
     "output_type": "stream",
     "text": [
      "C:\\Users\\dl\\AppData\\Local\\Temp\\ipykernel_21248\\2229208928.py:2: DeprecationWarning: executable_path has been deprecated, please pass in a Service object\n",
      "  driver = webdriver.Chrome(ChromeDriverManager().install())\n"
     ]
    },
    {
     "name": "stdout",
     "output_type": "stream",
     "text": [
      "網址設定成功\n",
      "已儲存:captcha.jpg\n"
     ]
    }
   ],
   "source": [
    "url = 'https://pportal.hpa.gov.tw/Web/Notice.aspx'\n",
    "driver = webdriver.Chrome(ChromeDriverManager().install())\n",
    "driver.get(url)\n",
    "driver.maximize_window()\n",
    "time.sleep(1)\n",
    "driver.find_element('xpath','//*[@id=\"ctl00_pnlLogin\"]/button').click()\n",
    "time.sleep(1)\n",
    "print(\"網址設定成功\")\n",
    "\n",
    "driver.save_screenshot('screen.jpg')\n",
    "element =driver.find_element('xpath','//*[@id=\"imgCheckCode\"]')\n",
    "left = element.location['x']\n",
    "top = element.location['y']\n",
    "right = left + element.size['width']\n",
    "bottom = top + element.size['height']\n",
    "img  = Image.open('screen.jpg')\n",
    "img = img.crop((left, top, right, bottom))\n",
    "img = img.convert(\"RGB\")\n",
    "img.save('numbercheck.jpg', 'jpeg')\n",
    "img = img.convert(\"L\")  # 將圖片轉成灰階\n",
    "pix_img = img.load()\n",
    "w, h = img.size\n",
    "threshold = 205 #像素閥值\n",
    "for y in range(h):    #for迴圈將每個像素點進行判斷\n",
    "    for x in range(w):\n",
    "        if pix_img[x, y] < threshold:\n",
    "            pix_img[x, y] = 0\n",
    "        else:\n",
    "            pix_img[x, y] = 255\n",
    "data = img.getdata()\n",
    "w, h = img.size\n",
    "black_point = 0\n",
    "for x in range(1, w - 1):\n",
    "    for y in range(1, h - 1):\n",
    "        mid_pixel = data[w * y + x]\n",
    "        if mid_pixel < 50:\n",
    "            top_pixel = data[w * (y - 1) + x]\n",
    "            left_pixel = data[w * y + (x - 1)]\n",
    "            down_pixel = data[w * (y + 1) + x]\n",
    "            right_pixel = data[w * y + (x + 1)]\n",
    "            if top_pixel < 10:\n",
    "                black_point += 1\n",
    "            if left_pixel < 10:\n",
    "                black_point += 1\n",
    "            if down_pixel < 10:\n",
    "                black_point += 1\n",
    "            if right_pixel < 10:\n",
    "                black_point += 1\n",
    "            if black_point < 1:\n",
    "                img.putpixel((x, y), 255)\n",
    "            black_point = 0\n",
    "img.save(f'C:/Users/dl/Desktop/yc_data/babyCrawler/CaptchaJpg/Train/captcha.jpg')\n",
    "print(\"已儲存:captcha.jpg\")\n",
    "#driver.quit()"
   ]
  },
  {
   "cell_type": "code",
   "execution_count": 14,
   "id": "659ab1d4",
   "metadata": {},
   "outputs": [],
   "source": [
    "img_rows = None\n",
    "img_cols = None\n",
    "digits_in_img = 4\n",
    "model = None\n",
    "np.set_printoptions(suppress=True, linewidth=150, precision=9, formatter={'float': '{: 0.9f}'.format})"
   ]
  },
  {
   "cell_type": "code",
   "execution_count": 15,
   "id": "ad37304d",
   "metadata": {},
   "outputs": [],
   "source": [
    "def split_digits_in_img(img_array):\n",
    "    x_list = list()\n",
    "    for i in range(digits_in_img):\n",
    "        step = img_cols // digits_in_img\n",
    "        x_list.append(img_array[:, i * step:(i + 1) * step] / 255)\n",
    "    return x_list"
   ]
  },
  {
   "cell_type": "code",
   "execution_count": 16,
   "id": "7dedd751",
   "metadata": {},
   "outputs": [],
   "source": [
    "if os.path.isfile('cnn_model.h5'):\n",
    "    model = models.load_model('cnn_model.h5')\n",
    "else:\n",
    "    print('No trained model found.')\n",
    "    exit(-1)"
   ]
  },
  {
   "cell_type": "code",
   "execution_count": 17,
   "id": "7e324e31",
   "metadata": {},
   "outputs": [],
   "source": [
    "img = load_img(f'C:/Users/dl/Desktop/yc_data/babyCrawler/CaptchaJpg/Train/captcha.jpg', color_mode='grayscale')\n",
    "img_array = img_to_array(img)\n",
    "img_rows, img_cols, _ = img_array.shape\n",
    "x_list = split_digits_in_img(img_array)"
   ]
  },
  {
   "cell_type": "code",
   "execution_count": 18,
   "id": "4ecd19d8",
   "metadata": {},
   "outputs": [
    {
     "name": "stdout",
     "output_type": "stream",
     "text": [
      "Digit 1: Confidence=> [ 0.999990702  0.000000407  0.000000020  0.000004126  0.000000016  0.000000143  0.000000720  0.000000775  0.000000004  0.000003093]    Predict=> 0\n",
      "Digit 2: Confidence=> [ 0.000000450  0.000000002  0.000000000  0.000000000  0.000000000  0.000000001  0.000000000  0.999999523  0.000000000  0.000000000]    Predict=> 7\n",
      "Digit 3: Confidence=> [ 0.000000000  0.000000000  0.000000000  0.000000278  0.000000000  0.999996066  0.000003663  0.000000000  0.000000004  0.000000000]    Predict=> 5\n",
      "Digit 4: Confidence=> [ 0.000000363  0.000000002  0.999992609  0.000000000  0.000000000  0.000000000  0.000000000  0.000006323  0.000000089  0.000000637]    Predict=> 2\n",
      "Predicted verification code: [0, 7, 5, 2]\n"
     ]
    }
   ],
   "source": [
    "varification_code = list()\n",
    "for i in range(digits_in_img):\n",
    "    confidences = model.predict(np.array([x_list[i]]), verbose=0)\n",
    "    result_class = np.argmax(confidences, axis=1)\n",
    "    varification_code.append(result_class[0])\n",
    "    print('Digit {0}: Confidence=> {1}    Predict=> {2}'.format(i + 1, np.squeeze(confidences), np.squeeze(result_class)))\n",
    "print('Predicted verification code:', varification_code)\n"
   ]
  },
  {
   "cell_type": "code",
   "execution_count": 19,
   "id": "452cce39",
   "metadata": {},
   "outputs": [],
   "source": [
    "CAPTCHA = ''.join(str(code) for code in varification_code[:4])"
   ]
  },
  {
   "cell_type": "code",
   "execution_count": 20,
   "id": "f244ffe8",
   "metadata": {},
   "outputs": [
    {
     "data": {
      "text/plain": [
       "'0752'"
      ]
     },
     "execution_count": 20,
     "metadata": {},
     "output_type": "execute_result"
    }
   ],
   "source": [
    "CAPTCHA"
   ]
  },
  {
   "cell_type": "code",
   "execution_count": 21,
   "id": "77431c51",
   "metadata": {},
   "outputs": [
    {
     "data": {
      "image/png": "[encoded data removed]",
      "text/plain": [
       "<PIL.JpegImagePlugin.JpegImageFile image mode=L size=70x31>"
      ]
     },
     "execution_count": 21,
     "metadata": {},
     "output_type": "execute_result"
    }
   ],
   "source": [
    "img"
   ]
  },
  {
   "cell_type": "code",
   "execution_count": 22,
   "id": "e93a2493",
   "metadata": {},
   "outputs": [],
   "source": [
    "driver.find_element('id','ctl00_txtAccount').send_keys(\"ayi2000719\")\n",
    "driver.find_element('id','ctl00_txtPassword').send_keys(\"Kimlu###0719\")\n",
    "driver.find_element('id','ctl00_txtVerification').send_keys(CAPTCHA)\n",
    "time.sleep(0.5)\n",
    "driver.find_element('xpath','//*[@id=\"ctl00_lbtnLogin\"]').click()"
   ]
  },
  {
   "cell_type": "code",
   "execution_count": null,
   "id": "d4427c80",
   "metadata": {},
   "outputs": [],
   "source": []
  }
 ],
 "metadata": {
  "kernelspec": {
   "display_name": "Python 3 (ipykernel)",
   "language": "python",
   "name": "python3"
  },
  "language_info": {
   "codemirror_mode": {
    "name": "ipython",
    "version": 3
   },
   "file_extension": ".py",
   "mimetype": "text/x-python",
   "name": "python",
   "nbconvert_exporter": "python",
   "pygments_lexer": "ipython3",
   "version": "3.10.9"
  }
 },
 "nbformat": 4,
 "nbformat_minor": 5
}
