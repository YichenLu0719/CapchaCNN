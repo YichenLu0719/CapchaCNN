{
 "cells": [
  {
   "cell_type": "code",
   "execution_count": 1,
   "id": "e064034e",
   "metadata": {},
   "outputs": [
    {
     "name": "stderr",
     "output_type": "stream",
     "text": [
      "C:\\Users\\dl\\AppData\\Local\\Temp\\ipykernel_17804\\1202833423.py:11: DeprecationWarning: executable_path has been deprecated, please pass in a Service object\n",
      "  driver = webdriver.Chrome(ChromeDriverManager().install())\n"
     ]
    },
    {
     "name": "stdout",
     "output_type": "stream",
     "text": [
      "網址設定成功\n"
     ]
    }
   ],
   "source": [
    "from selenium import webdriver\n",
    "from selenium.webdriver.common.keys import Keys\n",
    "from webdriver_manager.chrome import ChromeDriverManager\n",
    "import time\n",
    "import requests\n",
    "import datetime\n",
    "from bs4 import BeautifulSoup\n",
    "import cv2\n",
    "url = 'https://pportal.hpa.gov.tw/Web/Notice.aspx'\n",
    "\n",
    "driver = webdriver.Chrome(ChromeDriverManager().install())\n",
    "driver.get(url)\n",
    "driver.maximize_window()\n",
    "time.sleep(1)\n",
    "driver.find_element('xpath','//*[@id=\"ctl00_pnlLogin\"]/button').click()\n",
    "print(\"網址設定成功\")\n"
   ]
  },
  {
   "cell_type": "code",
   "execution_count": 2,
   "id": "c961accd",
   "metadata": {},
   "outputs": [
    {
     "name": "stderr",
     "output_type": "stream",
     "text": [
      "C:\\ProgramData\\anaconda3\\envs\\myenv\\lib\\site-packages\\selenium\\webdriver\\remote\\webdriver.py:889: UserWarning: name used for saved screenshot does not match file type. It should end with a `.png` extension\n",
      "  warnings.warn(\n"
     ]
    },
    {
     "name": "stdout",
     "output_type": "stream",
     "text": [
      "screenshot down!\n"
     ]
    }
   ],
   "source": [
    "driver.save_screenshot('screen.jpg')\n",
    "print(\"screenshot down!\")"
   ]
  },
  {
   "cell_type": "code",
   "execution_count": 3,
   "id": "f0ba77c5",
   "metadata": {},
   "outputs": [],
   "source": [
    "element =driver.find_element('xpath','//*[@id=\"imgCheckCode\"]')#尋找驗證碼的位置"
   ]
  },
  {
   "cell_type": "code",
   "execution_count": 4,
   "id": "33375a6c",
   "metadata": {},
   "outputs": [
    {
     "data": {
      "text/plain": [
       "{'x': 957, 'y': 344}"
      ]
     },
     "execution_count": 4,
     "metadata": {},
     "output_type": "execute_result"
    }
   ],
   "source": [
    "element.location"
   ]
  },
  {
   "cell_type": "code",
   "execution_count": 5,
   "id": "170a49a2",
   "metadata": {},
   "outputs": [
    {
     "data": {
      "text/plain": [
       "{'height': 31, 'width': 70}"
      ]
     },
     "execution_count": 5,
     "metadata": {},
     "output_type": "execute_result"
    }
   ],
   "source": [
    "element.size"
   ]
  },
  {
   "cell_type": "code",
   "execution_count": 6,
   "id": "e3dbff8b",
   "metadata": {},
   "outputs": [],
   "source": [
    "left = element.location['x']\n",
    "top = element.location['y']\n",
    "right = left + element.size['width']\n",
    "bottom = top + element.size['height']\n"
   ]
  },
  {
   "cell_type": "code",
   "execution_count": 7,
   "id": "9ea3cca6",
   "metadata": {},
   "outputs": [
    {
     "data": {
      "text/plain": [
       "(957, 1027, 344, 375)"
      ]
     },
     "execution_count": 7,
     "metadata": {},
     "output_type": "execute_result"
    }
   ],
   "source": [
    "left, right, top, bottom"
   ]
  },
  {
   "cell_type": "code",
   "execution_count": 8,
   "id": "33e3f6dd",
   "metadata": {},
   "outputs": [],
   "source": [
    "from PIL import Image\n",
    "img  = Image.open('screen.jpg')"
   ]
  },
  {
   "cell_type": "code",
   "execution_count": 9,
   "id": "77fa233b",
   "metadata": {},
   "outputs": [],
   "source": [
    "img = img.crop((left, top, right, bottom))"
   ]
  },
  {
   "cell_type": "code",
   "execution_count": 10,
   "id": "45934ed8",
   "metadata": {},
   "outputs": [
    {
     "data": {
      "image/png": "[encoded data removed]",
      "text/plain": [
       "<PIL.Image.Image image mode=RGB size=70x31>"
      ]
     },
     "execution_count": 10,
     "metadata": {},
     "output_type": "execute_result"
    }
   ],
   "source": [
    "img = img.convert(\"RGB\") # 處理RBGA的通道數問題，Bug:OSError: cannot write mode RGBA as JPEG <----JPEG不存在A通道\n",
    "\n",
    "img"
   ]
  },
  {
   "cell_type": "code",
   "execution_count": 11,
   "id": "8bdb7b8d",
   "metadata": {},
   "outputs": [
    {
     "data": {
      "text/plain": [
       "(70, 31)"
      ]
     },
     "execution_count": 11,
     "metadata": {},
     "output_type": "execute_result"
    }
   ],
   "source": [
    "img.size"
   ]
  },
  {
   "cell_type": "code",
   "execution_count": 12,
   "id": "f25ed305",
   "metadata": {},
   "outputs": [],
   "source": [
    "img.save('numbercheck.jpg', 'jpeg')"
   ]
  },
  {
   "cell_type": "code",
   "execution_count": 13,
   "id": "6009f132",
   "metadata": {},
   "outputs": [],
   "source": [
    "img = img.convert(\"L\")  # 將圖片轉成灰階\n",
    "pix_img = img.load()\n",
    "w, h = img.size\n",
    "threshold = 205 #像素閥值\n",
    "for y in range(h):    #for迴圈將每個像素點進行判斷\n",
    "    for x in range(w):\n",
    "        if pix_img[x, y] < threshold:\n",
    "            pix_img[x, y] = 0\n",
    "        else:\n",
    "            pix_img[x, y] = 255"
   ]
  },
  {
   "cell_type": "code",
   "execution_count": 14,
   "id": "36173eeb",
   "metadata": {},
   "outputs": [],
   "source": [
    "# 將經過閥值處理的像素重新生成圖片\n",
    "data = img.getdata()\n",
    "w, h = img.size\n",
    "black_point = 0\n",
    "for x in range(1, w - 1):\n",
    "    for y in range(1, h - 1):\n",
    "        mid_pixel = data[w * y + x]\n",
    "        if mid_pixel < 50:\n",
    "            top_pixel = data[w * (y - 1) + x]\n",
    "            left_pixel = data[w * y + (x - 1)]\n",
    "            down_pixel = data[w * (y + 1) + x]\n",
    "            right_pixel = data[w * y + (x + 1)]\n",
    "            if top_pixel < 10:\n",
    "                black_point += 1\n",
    "            if left_pixel < 10:\n",
    "                black_point += 1\n",
    "            if down_pixel < 10:\n",
    "                black_point += 1\n",
    "            if right_pixel < 10:\n",
    "                black_point += 1\n",
    "            if black_point < 1:\n",
    "                img.putpixel((x, y), 255)\n",
    "            black_point = 0"
   ]
  },
  {
   "cell_type": "code",
   "execution_count": 15,
   "id": "6a86c2e8",
   "metadata": {},
   "outputs": [
    {
     "data": {
      "text/plain": [
       "(70, 31)"
      ]
     },
     "execution_count": 15,
     "metadata": {},
     "output_type": "execute_result"
    }
   ],
   "source": [
    "w, h"
   ]
  },
  {
   "cell_type": "code",
   "execution_count": 16,
   "id": "a48c3a3c",
   "metadata": {},
   "outputs": [
    {
     "data": {
      "image/png": "[encoded data removed]",
      "text/plain": [
       "<PIL.Image.Image image mode=L size=70x31>"
      ]
     },
     "execution_count": 16,
     "metadata": {},
     "output_type": "execute_result"
    }
   ],
   "source": [
    "img"
   ]
  },
  {
   "cell_type": "code",
   "execution_count": 183,
   "id": "3487c0c5",
   "metadata": {},
   "outputs": [
    {
     "name": "stdout",
     "output_type": "stream",
     "text": [
      "pytesseract 設定ok\n",
      "\n"
     ]
    }
   ],
   "source": [
    "import pytesseract\n",
    "pytesseract.pytesseract.tesseract_cmd = r'C:\\pytess\\tesseract.exe' #設定位址\n",
    "print(\"pytesseract 設定ok\")\n",
    "result = pytesseract.image_to_string(img)\n",
    "regex = '\\d+'\n",
    "result = result.replace(\" \", \"\") #去除空格，以免造成有'29 1316'這種中間空一格的情形\n",
    "print(result)"
   ]
  },
  {
   "cell_type": "code",
   "execution_count": 146,
   "id": "72ade2dd",
   "metadata": {},
   "outputs": [
    {
     "data": {
      "text/plain": [
       "[]"
      ]
     },
     "execution_count": 146,
     "metadata": {},
     "output_type": "execute_result"
    }
   ],
   "source": [
    "numbers"
   ]
  },
  {
   "cell_type": "code",
   "execution_count": null,
   "id": "d0b106b5",
   "metadata": {},
   "outputs": [],
   "source": []
  }
 ],
 "metadata": {
  "kernelspec": {
   "display_name": "Python 3 (ipykernel)",
   "language": "python",
   "name": "python3"
  },
  "language_info": {
   "codemirror_mode": {
    "name": "ipython",
    "version": 3
   },
   "file_extension": ".py",
   "mimetype": "text/x-python",
   "name": "python",
   "nbconvert_exporter": "python",
   "pygments_lexer": "ipython3",
   "version": "3.10.9"
  }
 },
 "nbformat": 4,
 "nbformat_minor": 5
}
