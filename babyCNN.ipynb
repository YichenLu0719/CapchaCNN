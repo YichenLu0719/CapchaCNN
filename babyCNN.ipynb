{
 "cells": [
  {
   "cell_type": "code",
   "execution_count": 1,
   "id": "dd63d00c",
   "metadata": {},
   "outputs": [],
   "source": [
    "import numpy as np\n",
    "import os\n",
    "from sklearn.model_selection import train_test_split\n",
    "from tensorflow import keras\n",
    "from tensorflow.keras import layers\n",
    "from tensorflow.keras import models\n",
    "from tensorflow.keras.preprocessing.image import img_to_array\n",
    "from tensorflow.keras.preprocessing.image import load_img"
   ]
  },
  {
   "cell_type": "markdown",
   "id": "143f8a38",
   "metadata": {},
   "source": [
    "# 初始化所需變數"
   ]
  },
  {
   "cell_type": "code",
   "execution_count": 2,
   "id": "42d86df6",
   "metadata": {},
   "outputs": [],
   "source": [
    "epochs = 10       #訓練的次數\n",
    "img_rows = None   #驗證碼影像檔的高\n",
    "img_cols = None   #驗證碼影像檔的寬\n",
    "digits_in_img = 4 #驗證碼影像檔中有幾位數\n",
    "x_list = list()   #存所有驗證碼數字影像檔的array\n",
    "y_list = list()   #存所有的驗證碼數字影像檔array代表的正確數字\n",
    "x_train = list()  #存訓練用驗證碼數字影像檔的array\n",
    "y_train = list()  #存訓練用驗證碼數字影像檔array代表的正確數字\n",
    "x_test = list()   #存測試用驗證碼數字影像檔的array\n",
    "y_test = list()   #存測試用驗證碼數字影像檔array代表的正確數字"
   ]
  },
  {
   "cell_type": "markdown",
   "id": "e667754a",
   "metadata": {},
   "source": [
    "寫一個將驗證碼4位數獨立切出的funciton\n",
    "驗證碼數字影像檔的array會存在x_list，驗證碼數字影像檔array代表的正確數字會存在y_list"
   ]
  },
  {
   "cell_type": "code",
   "execution_count": 3,
   "id": "ed99dfc6",
   "metadata": {},
   "outputs": [],
   "source": [
    "def split_digits_in_img(img_array, x_list, y_list):\n",
    "    for i in range(digits_in_img):\n",
    "        step = img_cols // digits_in_img\n",
    "        x_list.append(img_array[:, i * step:(i + 1) * step] / 255)\n",
    "        y_list.append(img_filename[i])"
   ]
  },
  {
   "cell_type": "markdown",
   "id": "c1ae4c0a",
   "metadata": {},
   "source": [
    "從Train_label資料夾以灰階的形式讀入所有.jpg的驗整碼，並逐一將4位數驗證碼影像檔切出"
   ]
  },
  {
   "cell_type": "code",
   "execution_count": 4,
   "id": "e0d0f7d6",
   "metadata": {},
   "outputs": [],
   "source": [
    "img_filenames = os.listdir('CaptchaJpg\\Train_label')\n",
    " \n",
    "for img_filename in img_filenames:\n",
    "    if '.jpg' not in img_filename:\n",
    "        continue\n",
    "    img = load_img(r'C:\\Users\\dl\\Desktop\\yc_data\\babyCrawler\\CaptchaJpg\\Train_label\\{0}'.format(img_filename), color_mode='grayscale')\n",
    "    img_array = img_to_array(img)\n",
    "    img_rows, img_cols, _ = img_array.shape\n",
    "    split_digits_in_img(img_array, x_list, y_list)\n"
   ]
  },
  {
   "cell_type": "markdown",
   "id": "d57e846d",
   "metadata": {},
   "source": [
    "# 除錯"
   ]
  },
  {
   "cell_type": "code",
   "execution_count": 5,
   "id": "db0cd7ad",
   "metadata": {},
   "outputs": [],
   "source": [
    "# 找出無效的標籤 ex檔名有誤 大部分是有無效的字串無法轉換為整數 例如出現.\n",
    "invalid_indices = []\n",
    "for i, label in enumerate(y_list):\n",
    "    try:\n",
    "        int_label = int(label)\n",
    "    except ValueError:\n",
    "        invalid_indices.append(i)\n",
    "\n",
    "# 修正無效標籤\n",
    "for index in invalid_indices:\n",
    "    y_list[index] = '0'  # 將無效標籤替換為有效的標籤，例如使用0\n",
    "\n",
    "# 轉換為數字型標籤\n",
    "y_list = [int(label) for label in y_list]\n"
   ]
  },
  {
   "cell_type": "code",
   "execution_count": 6,
   "id": "1aee3635",
   "metadata": {},
   "outputs": [
    {
     "data": {
      "text/plain": [
       "(31, 70, 1)"
      ]
     },
     "execution_count": 6,
     "metadata": {},
     "output_type": "execute_result"
    }
   ],
   "source": [
    "img_array.shape"
   ]
  },
  {
   "cell_type": "markdown",
   "id": "7fe8a640",
   "metadata": {},
   "source": [
    "將y_list所存的驗證碼正確數字0-9轉成categorical形式\n",
    "舉例: 1 = [0, 1, 0, 0, 0, 0, 0, 0, 0, 0,]、2 = [0, 0, 1, 0, 0, 0, 0, 0, 0, 0,]、依此類推...\n",
    "然後將所有的資料拆成訓練用及測試用資料集"
   ]
  },
  {
   "cell_type": "code",
   "execution_count": 7,
   "id": "496f5997",
   "metadata": {},
   "outputs": [],
   "source": [
    "y_list = keras.utils.to_categorical(y_list, num_classes=10)\n",
    "x_train, x_test, y_train, y_test = train_test_split(x_list, y_list)"
   ]
  },
  {
   "cell_type": "code",
   "execution_count": 8,
   "id": "340c3ffa",
   "metadata": {},
   "outputs": [
    {
     "name": "stdout",
     "output_type": "stream",
     "text": [
      "New model created.\n"
     ]
    }
   ],
   "source": [
    "if os.path.isfile('cnn_model.h5'):\n",
    "    model = models.load_model('cnn_model.h5')\n",
    "    print('Model loaded from file.') \n",
    "else:\n",
    "    model = models.Sequential()\n",
    "    model.add(layers.Conv2D(32, kernel_size=(3, 3), activation='relu', input_shape=(img_rows, img_cols // digits_in_img, 1)))\n",
    "    model.add(layers.Conv2D(64, (3, 3), activation='relu'))\n",
    "    model.add(layers.MaxPooling2D(pool_size=(2, 2)))\n",
    "    model.add(layers.Dropout(rate=0.25))\n",
    "    model.add(layers.Flatten())\n",
    "    model.add(layers.Dense(128, activation='relu'))\n",
    "    model.add(layers.Dropout(rate=0.5))\n",
    "    model.add(layers.Dense(10, activation='softmax'))\n",
    "    print('New model created.')\n",
    "model.compile(loss=keras.losses.categorical_crossentropy, optimizer=keras.optimizers.Adam(),run_eagerly=True, metrics=['accuracy'])"
   ]
  },
  {
   "cell_type": "code",
   "execution_count": 9,
   "id": "9b9468bb",
   "metadata": {},
   "outputs": [],
   "source": [
    "x_train = np.squeeze(x_train)\n",
    "x_test = np.squeeze(x_test)"
   ]
  },
  {
   "cell_type": "code",
   "execution_count": 10,
   "id": "878ed231",
   "metadata": {},
   "outputs": [
    {
     "name": "stdout",
     "output_type": "stream",
     "text": [
      "Epoch 1/10\n",
      "702/702 [==============================] - 26s 37ms/step - loss: 1.0290 - accuracy: 0.6585 - val_loss: 0.1907 - val_accuracy: 0.9487\n",
      "Epoch 2/10\n",
      "702/702 [==============================] - 26s 36ms/step - loss: 0.2135 - accuracy: 0.9430 - val_loss: 0.1632 - val_accuracy: 0.9626\n",
      "Epoch 3/10\n",
      "702/702 [==============================] - 26s 36ms/step - loss: 0.1502 - accuracy: 0.9597 - val_loss: 0.1624 - val_accuracy: 0.9743\n",
      "Epoch 4/10\n",
      "702/702 [==============================] - 26s 36ms/step - loss: 0.1281 - accuracy: 0.9658 - val_loss: 0.1775 - val_accuracy: 0.9722\n",
      "Epoch 5/10\n",
      "702/702 [==============================] - 25s 36ms/step - loss: 0.0917 - accuracy: 0.9733 - val_loss: 0.1753 - val_accuracy: 0.9743\n",
      "Epoch 6/10\n",
      "702/702 [==============================] - 26s 37ms/step - loss: 0.0885 - accuracy: 0.9750 - val_loss: 0.1954 - val_accuracy: 0.9722\n",
      "Epoch 7/10\n",
      "702/702 [==============================] - 26s 36ms/step - loss: 0.0658 - accuracy: 0.9825 - val_loss: 0.2119 - val_accuracy: 0.9722\n",
      "Epoch 8/10\n",
      "702/702 [==============================] - 26s 36ms/step - loss: 0.0588 - accuracy: 0.9825 - val_loss: 0.2334 - val_accuracy: 0.9722\n",
      "Epoch 9/10\n",
      "702/702 [==============================] - 26s 36ms/step - loss: 0.0609 - accuracy: 0.9865 - val_loss: 0.2374 - val_accuracy: 0.9722\n",
      "Epoch 10/10\n",
      "702/702 [==============================] - 25s 36ms/step - loss: 0.0478 - accuracy: 0.9868 - val_loss: 0.1970 - val_accuracy: 0.9786\n",
      "Test loss: 0.19702230393886566\n",
      "Test accuracy: 0.9786096215248108\n"
     ]
    }
   ],
   "source": [
    "model.fit(np.array(x_train), np.array(y_train), batch_size=digits_in_img, epochs=epochs, verbose=1, validation_data=(np.array(x_test), np.array(y_test)))\n",
    "\n",
    "loss, accuracy = model.evaluate(np.array(x_test), np.array(y_test), verbose=0)\n",
    "print('Test loss:', loss)\n",
    "print('Test accuracy:', accuracy)\n",
    "\n",
    " \n",
    "model.save('cnn_model.h5')"
   ]
  },
  {
   "cell_type": "code",
   "execution_count": null,
   "id": "db412d5d",
   "metadata": {},
   "outputs": [],
   "source": []
  }
 ],
 "metadata": {
  "kernelspec": {
   "display_name": "Python 3 (ipykernel)",
   "language": "python",
   "name": "python3"
  },
  "language_info": {
   "codemirror_mode": {
    "name": "ipython",
    "version": 3
   },
   "file_extension": ".py",
   "mimetype": "text/x-python",
   "name": "python",
   "nbconvert_exporter": "python",
   "pygments_lexer": "ipython3",
   "version": "3.10.9"
  }
 },
 "nbformat": 4,
 "nbformat_minor": 5
}
